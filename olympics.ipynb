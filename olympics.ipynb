{
 "cells": [
  {
   "cell_type": "code",
   "execution_count": 11,
   "metadata": {},
   "outputs": [],
   "source": [
    "# Lets first import the libraries we will need \n",
    "from bokeh.io import curdoc\n",
    "from bokeh.layouts import column, row\n",
    "from bokeh.models import ColumnDataSource, Select\n",
    "from bokeh.plotting import figure, show\n",
    "from bokeh.io import output_notebook\n",
    "import pandas as pd\n",
    "import numpy as np"
   ]
  },
  {
   "cell_type": "code",
   "execution_count": 12,
   "metadata": {},
   "outputs": [],
   "source": [
    "# Second step will be importing the data to our Jupyter Notebook\n",
    "# The data I used to build this project can be found here:\n",
    "# https://www.theguardian.com/sport/datablog/2012/jun/25/olympic-medal-winner-list-data#data\n",
    "\n",
    "filepath = '../Desktop/datasets/olympics.csv'\n",
    "\n",
    "olympics = pd.read_csv(filepath, \n",
    "    skiprows = [0,1,2], header = 1)"
   ]
  },
  {
   "cell_type": "code",
   "execution_count": 13,
   "metadata": {},
   "outputs": [],
   "source": [
    "# After the first look at the database I decided to use the columns MEDAL, NOC, and EDITION\n",
    "# To build graphics using Bokeh server\n",
    "\n",
    "data = olympics.loc[:, ['Medal', 'NOC', 'Edition']]\n",
    "data.sort_values(by = ['NOC', 'Edition'], inplace = True)"
   ]
  },
  {
   "cell_type": "code",
   "execution_count": 14,
   "metadata": {},
   "outputs": [],
   "source": [
    "# The following step was creating these functions to count how many GOLD, SILVER, and BRONZE medals \n",
    "# Each country got over the years (from 1896 to 2008)\n",
    "\n",
    "def separete_gold(value):\n",
    "    if value == 'Gold':\n",
    "        return 1\n",
    "    else: \n",
    "        return 0\n",
    "    \n",
    "def separete_silver(value):\n",
    "    if value == 'Silver':\n",
    "        return 1\n",
    "    else: \n",
    "        return 0\n",
    "\n",
    "def separete_bronze(value):\n",
    "    if value == 'Bronze':\n",
    "        return 1\n",
    "    else: \n",
    "        return 0\n",
    "\n",
    "# Adding new columns to our database\n",
    "\n",
    "data['Gold'] = data.Medal.apply(separete_gold)\n",
    "data['Silver'] = data.Medal.apply(separete_silver)\n",
    "data['Bronze'] = data.Medal.apply(separete_bronze)"
   ]
  },
  {
   "cell_type": "code",
   "execution_count": 15,
   "metadata": {},
   "outputs": [],
   "source": [
    "# Here we rearange the data so that we can see how the medals are distributed over \n",
    "# The years. Here we make sure that every NOC will be represented every 4 years and\n",
    "# We get the correct corresponding YEAR - NOC - GOLD, SILVER, BRONZE\n",
    "\n",
    "lista_anos = list(data['Edition'].unique())\n",
    "lista_noc = list(data['NOC'].unique())\n",
    "lista_plot = []\n",
    "\n",
    "lista_noc_anos = []\n",
    "for noc in lista_noc:\n",
    "    for year in lista_anos:\n",
    "        lista_aux = list(data[(data['NOC'] == noc) \n",
    "                & (data['Edition'] == year)][['Gold', 'Silver', 'Bronze']].sum().values)\n",
    "        lista_aux.extend([year, noc])\n",
    "        lista_noc_anos.append(lista_aux)"
   ]
  },
  {
   "cell_type": "code",
   "execution_count": 16,
   "metadata": {},
   "outputs": [],
   "source": [
    "# Finally we make a new DataFrame using the data we reorganized\n",
    "data_strutured = np.array(lista_noc_anos)\n",
    "dataframe = pd.DataFrame(data_strutured, columns=['Gold',\n",
    "                                                 'Silver',\n",
    "                                                 'Bronze',\n",
    "                                                 'Year',\n",
    "                                                 'NOC'])\n",
    "\n",
    "\n",
    "dataframe.Gold = np.array(dataframe.Gold, dtype=np.int32)\n",
    "dataframe.Silver = np.array(dataframe.Silver, dtype=np.int32)\n",
    "dataframe.Bronze = np.array(dataframe.Bronze, dtype=np.int32)\n",
    "dataframe.Year = np.array(dataframe.Year, dtype=np.int32)"
   ]
  },
  {
   "cell_type": "code",
   "execution_count": 17,
   "metadata": {},
   "outputs": [],
   "source": [
    "# Here we start to prepare our data to be used to draw the graphics\n",
    "source_gold = ColumnDataSource(data = {\n",
    "    'x': dataframe[dataframe['NOC'] == 'USA'].sort_values(by='Year')['Year'],\n",
    "    'y': dataframe[dataframe['NOC'] == 'USA'].sort_values(by='Year')['Silver'],\n",
    "})\n",
    "\n",
    "source_silver = ColumnDataSource(data = {\n",
    "    'x': dataframe[dataframe['NOC'] == 'USA'].sort_values(by='Year')['Year'],\n",
    "    'y': dataframe[dataframe['NOC'] == 'USA'].sort_values(by='Year')['Gold'],\n",
    "})\n",
    "\n",
    "source_bronze = ColumnDataSource(data = {\n",
    "    'x': dataframe[dataframe['NOC'] == 'USA'].sort_values(by='Year')['Year'],\n",
    "    'y': dataframe[dataframe['NOC'] == 'USA'].sort_values(by='Year')['Bronze'],\n",
    "})\n",
    "\n",
    "# Set the limits for x_axis\n",
    "xmin, xmax = min(dataframe['Year']), max(dataframe['Year'])"
   ]
  },
  {
   "cell_type": "code",
   "execution_count": 18,
   "metadata": {},
   "outputs": [],
   "source": [
    "# Creating a figure and writing a callback\n",
    "plot = figure(x_axis_label='Year', \n",
    "              y_axis_label = 'Total Medals',\n",
    "             x_range= (xmin - 8, xmax + 8))\n",
    "\n",
    "def update_medals(attr, old, new):\n",
    "    noc = menu_noc.value\n",
    "    new_data_gold ={\n",
    "        'x': dataframe[dataframe['NOC'] == noc].sort_values(by='Year')['Year'],\n",
    "        'y': dataframe[dataframe['NOC'] == noc].sort_values(by='Year')['Gold'],\n",
    "    }\n",
    "    new_data_silver ={\n",
    "        'x': dataframe[dataframe['NOC'] == noc].sort_values(by='Year')['Year'],\n",
    "        'y': dataframe[dataframe['NOC'] == noc].sort_values(by='Year')['Silver'],\n",
    "    }\n",
    "    new_data_bronze ={\n",
    "        'x': dataframe[dataframe['NOC'] == noc].sort_values(by='Year')['Year'],\n",
    "        'y': dataframe[dataframe['NOC'] == noc].sort_values(by='Year')['Bronze'],\n",
    "    }\n",
    "    source_gold.data = new_data_gold\n",
    "    source_silver.data = new_data_silver\n",
    "    source_bronze.data = new_data_bronze"
   ]
  },
  {
   "cell_type": "code",
   "execution_count": 19,
   "metadata": {},
   "outputs": [],
   "source": [
    "# Creating menus and adding on_change methods\n",
    "menu_noc = Select(options=lista_noc,\n",
    "value = 'USA',title ='Countries')\n",
    "\n",
    "menu_noc.on_change('value', update_medals)"
   ]
  },
  {
   "cell_type": "code",
   "execution_count": 20,
   "metadata": {},
   "outputs": [],
   "source": [
    "# Finally plotting and organazing everything in a layout\n",
    "plot.line(x = 'x', y = 'y', source = source_gold,line_color ='gold')\n",
    "plot.line(x = 'x', y = 'y', source = source_silver, line_color ='silver')\n",
    "plot.line(x = 'x', y = 'y', source = source_bronze, line_color ='brown')\n",
    "\n",
    "layout = column(menu_noc, plot)\n",
    "\n",
    "curdoc().add_root(layout)"
   ]
  },
  {
   "cell_type": "code",
   "execution_count": null,
   "metadata": {},
   "outputs": [],
   "source": []
  }
 ],
 "metadata": {
  "kernelspec": {
   "display_name": "Python 3",
   "language": "python",
   "name": "python3"
  },
  "language_info": {
   "codemirror_mode": {
    "name": "ipython",
    "version": 3
   },
   "file_extension": ".py",
   "mimetype": "text/x-python",
   "name": "python",
   "nbconvert_exporter": "python",
   "pygments_lexer": "ipython3",
   "version": "3.7.1"
  }
 },
 "nbformat": 4,
 "nbformat_minor": 2
}
